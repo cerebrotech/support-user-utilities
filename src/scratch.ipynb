{
 "cells": [
  {
   "cell_type": "code",
   "execution_count": null,
   "id": "7bec25fb-3651-47c2-a5e9-34cd7facd068",
   "metadata": {},
   "outputs": [],
   "source": [
    "%env DOMINO_API_HOST_URL=https://swv4sp3049.cs.domino.tech/"
   ]
  },
  {
   "cell_type": "code",
   "execution_count": null,
   "id": "b4b5b720-9769-4657-8ba0-8ba44ce225d4",
   "metadata": {},
   "outputs": [],
   "source": [
    "import os\n",
    "print(os.environ['DOMINO_API_HOST'])"
   ]
  },
  {
   "cell_type": "code",
   "execution_count": null,
   "id": "2e1e080c-d86a-4229-a818-cbd4ae9efc18",
   "metadata": {},
   "outputs": [],
   "source": [
    "print(os.environ['DOMINO_USER_API_KEY'])"
   ]
  },
  {
   "cell_type": "code",
   "execution_count": null,
   "id": "350aecae-8ce1-4bf4-ae9e-8fd23d3e0442",
   "metadata": {},
   "outputs": [],
   "source": [
    "import sys  \n",
    "sys.path.insert(0, '/mnt/code/src/')\n",
    "import domino_utils"
   ]
  },
  {
   "cell_type": "code",
   "execution_count": null,
   "id": "624344cd-aadd-4096-bed8-59b0a90718df",
   "metadata": {},
   "outputs": [],
   "source": [
    "domino_utils.get_domino_url()"
   ]
  },
  {
   "cell_type": "code",
   "execution_count": null,
   "id": "df5d7a75-3133-4146-8c92-7c627f65c980",
   "metadata": {},
   "outputs": [],
   "source": [
    "domino_utils.get_domino_api_key()"
   ]
  },
  {
   "cell_type": "code",
   "execution_count": null,
   "id": "be1404d1-8ed7-4477-854f-f2d0adf68089",
   "metadata": {},
   "outputs": [],
   "source": []
  }
 ],
 "metadata": {
  "kernelspec": {
   "display_name": "Python 3",
   "language": "python",
   "name": "python3"
  },
  "language_info": {
   "codemirror_mode": {
    "name": "ipython",
    "version": 3
   },
   "file_extension": ".py",
   "mimetype": "text/x-python",
   "name": "python",
   "nbconvert_exporter": "python",
   "pygments_lexer": "ipython3",
   "version": "3.8.8"
  }
 },
 "nbformat": 4,
 "nbformat_minor": 5
}
